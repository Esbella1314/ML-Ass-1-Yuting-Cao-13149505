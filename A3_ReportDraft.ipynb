{
  "nbformat": 4,
  "nbformat_minor": 0,
  "metadata": {
    "kernelspec": {
      "display_name": "Python 3",
      "language": "python",
      "name": "python3"
    },
    "language_info": {
      "codemirror_mode": {
        "name": "ipython",
        "version": 3
      },
      "file_extension": ".py",
      "mimetype": "text/x-python",
      "name": "python",
      "nbconvert_exporter": "python",
      "pygments_lexer": "ipython3",
      "version": "3.5.4"
    },
    "toc": {
      "base_numbering": 1,
      "nav_menu": {},
      "number_sections": true,
      "sideBar": true,
      "skip_h1_title": false,
      "title_cell": "Table of Contents",
      "title_sidebar": "Contents",
      "toc_cell": false,
      "toc_position": {},
      "toc_section_display": true,
      "toc_window_display": false
    },
    "colab": {
      "name": "A3_ReportDraft.ipynb",
      "provenance": []
    }
  },
  "cells": [
    {
      "cell_type": "markdown",
      "metadata": {
        "id": "RSuXXcZ1tMq-",
        "colab_type": "text"
      },
      "source": [
        "# Oral-English Training Marketing Investment Analysis\n",
        "\n",
        "[Link to Notebook Version of This Report](https://colab.research.google.com/github/Esbella1314/ML-Ass-1-Yuting-Cao-13149505/blob/master/A1_ReportDraft.ipynb#scrollTo=qgqWnaYlNr0c)"
      ]
    },
    {
      "cell_type": "markdown",
      "metadata": {
        "id": "xeEnqwGjtMrY",
        "colab_type": "text"
      },
      "source": [
        "Subject Name:\t\t32513 Machine Learning\n",
        "\n",
        "Students Name:     Yuting Cao                   \n",
        "Student ID:        13149505                \n",
        "Student Email:     yuting.cao@student.uts.edu.au\n",
        "\n",
        "\n",
        "Github Link: https://github.com/Esbella1314/ML-Ass-1-Yuting-Cao-13149505/blob/master/A3_ReportDraft.ipynb"
      ]
    },
    {
      "cell_type": "markdown",
      "metadata": {
        "id": "Q9WeA4HotMrZ",
        "colab_type": "text"
      },
      "source": [
        "## 1\tProject Background"
      ]
    },
    {
      "cell_type": "markdown",
      "metadata": {
        "id": "slla7sCSuMn_",
        "colab_type": "text"
      },
      "source": [
        "As people all know that Chinese students are very diligent, many of us have learnt English for many years, our English foundation is very steadily, however, most of us are just good at reading and writing, the English practical application ability is very poor, when we need to speak or listening, we are weaker than many other countries’ students. \n",
        "China has open herself to the whole world for many years and China is still developing very fast. English is the number one worldwide language, if we can acknowledge English, then it means we have the key to know the world. Our Chinese students should improve the English practical application ability, can understand what other people are saying and expressing our thoughts clearly as well. We should communicate with the world, go to a bigger world, to be international.\n",
        "Quality-oriented education is the trend of future education, I used to operate this program in Wuhan, China from 2012 to 2014 which is to open an English training center to train people’s English listening and speaking ability. This is a very good program with great future which is aiming to help people who want to improve their English communicate ability. I was very optimistic about this program, I thought that many people will love my ideas and come to study in my training center, before I did marketing investment, I did not do any data analysis but just invest a lot money in marketing with my subjective judgment, and the result is that I lost a big amount of money in marketing investment with very low revenue.\n",
        "At the same time, I find out that even though the Oral-English training marketing still have get a hug part to share, but since most of the students are not interested in Oral-English, they think that it’s useless, what they want is to have CET-4 and CET-6 trainings to pass those English exams, so find the target people and make an efficient marketing investment is very necessary instead of spending money in each place to try good luck. \n",
        "Because of those fail reasons, now I need to do data analysis and project planning ahead to improve the successful rate of the project."
      ]
    },
    {
      "cell_type": "markdown",
      "metadata": {
        "id": "ahvdcgIstMra",
        "colab_type": "text"
      },
      "source": [
        "## 2\tProject Value"
      ]
    },
    {
      "cell_type": "markdown",
      "metadata": {
        "id": "l9GlZgaqtMrb",
        "colab_type": "text"
      },
      "source": [
        "The purpose of this paper is to give information about Oral-English training marketing investment in Wuhan, China. This is a project which helps the Oral-English training center to make accurate marketing analysis and marketing investment decisions based on the marketing data analysis.\n",
        "The exam-oriented education makes us forget what’s the real meaning of studying, studying should be because we want to study, we love that domain but not just for passing the exams. There are some people who want to learn English really well, or want to study abroad, or want to work in the foreign companies, all of them want to have a good and real communication with the world, but because of poor English communication ability, it has limit their chances to go further.\n",
        "This project will only be executed in Wuhan, China, so all the data I collect in this paper are based in the Wuhan marketing. In Wuhan, the Oral-English training is still very new, there is a big potential marketing in this domain. There are only a few training centers who provide Oral-English trainings such as New Oriental and Meten English. So, the marketing competition isn’t that intense yet, with the Oral-English training demanding is increasing, seizing the market opportunity is very important.\n",
        "The project value statement is providing the best solutions to make marketing promotion strategies. Deciding where to put the advertisements, how and when to make promotions to approach the best value to target customers. This project will be done in one year."
      ]
    },
    {
      "cell_type": "markdown",
      "metadata": {
        "id": "no73a9uWtMrc",
        "colab_type": "text"
      },
      "source": [
        "## 3\tProject Objectives"
      ]
    },
    {
      "cell_type": "markdown",
      "metadata": {
        "id": "MB40XxEntMrc",
        "colab_type": "text"
      },
      "source": [
        "The following are the objectives of the project: \n",
        "*\tOffering a good oral-English training service to customers\n",
        "*\tIncreasing the portion of oral-English training market controlled by the company which I created\n",
        "*\tFinding right target customers and the best model to improve marketing investment efficiency"
      ]
    },
    {
      "cell_type": "markdown",
      "metadata": {
        "id": "BKGbDNmFtMrd",
        "colab_type": "text"
      },
      "source": [
        "## 4\tProject Scopes"
      ]
    },
    {
      "cell_type": "markdown",
      "metadata": {
        "id": "y1aEH7zftMre",
        "colab_type": "text"
      },
      "source": [
        "The project scopes are as below:\n",
        "*\tGathering the marketing requirements\n",
        "*\tImplementing requests for proposal for project approval\n",
        "*\tCreating network environment for data collection, analysis and presentation\n",
        "*\tCollecting past marketing data from other Oral-English training organizations\n",
        "*\tBuilding database for data analysis preparation\n",
        "*\tBuilding models to analyze the past marketing data which coming from other Oral-English training organization\n",
        "*\tDeciding what marketing solutions to be implemented\n",
        "*\tDesigning marketing processes\n",
        "*\tImplementing marketing solutions online and offline\n",
        "*\tCollecting new marketing data and evaluating whether the marketing models are working great in marketing\n",
        "*\tValidating marketing processes based on the marketing data evaluations.\n",
        "*\tCreating a new marketing strategy\n",
        "*\tImplementing new marketing solutions online and offline\n",
        "*\tOpening classes to start Oral-English training and keep tracking marketing data\n"
      ]
    },
    {
      "cell_type": "markdown",
      "metadata": {
        "id": "mdaTvGpAtMre",
        "colab_type": "text"
      },
      "source": [
        "## 5\tWork Breakdown Structure "
      ]
    },
    {
      "cell_type": "markdown",
      "metadata": {
        "id": "MtRVmqc1tMrf",
        "colab_type": "text"
      },
      "source": [
        "The Work Breakdown Structure is the most important part of the project management process. The Work Breakdown Structure offers the project manager and its team a chance to break a high-level scope statement down into smaller, better manageable units of work.\n",
        "The task list of the project is showing in the tables as below:\n",
        "\n",
        "\n",
        "<img src=\"https://github.com/Esbella1314/ML-Ass-1-Yuting-Cao-13149505/blob/master/Table%201.png\n",
        "?raw=true\" width=\"550\"/>\n",
        "\n",
        "Table 1: Scope Item: Request for Proposal (RFP) Approval Process\n",
        "\n",
        "\n",
        "\n",
        "\n",
        "<img src=\"https://github.com/Esbella1314/ML-Ass-1-Yuting-Cao-13149505/blob/master/Table%202.png\n",
        "?raw=true\" width=\"500\"/>\n",
        "\n",
        "Table 2: Scope Item: Analyze Past Data and Make Marketing Plans\n",
        "\n",
        "\n",
        "<img src=\"https://github.com/Esbella1314/ML-Ass-1-Yuting-Cao-13149505/blob/master/Table%203.png\n",
        "?raw=true\" width=\"500\"/>\n",
        "\n",
        "Table 3: Scope Item: Evaluate Past Data and Analyze New Data\n",
        "\n",
        "<img src=\"https://github.com/Esbella1314/ML-Ass-1-Yuting-Cao-13149505/blob/master/Table%204.png\n",
        "?raw=true\" width=\"500\"/>\n",
        "\n",
        "Table 4: Scope Item: Close Project"
      ]
    },
    {
      "cell_type": "markdown",
      "metadata": {
        "id": "XlQDABNytMrg",
        "colab_type": "text"
      },
      "source": [
        "## 6\tProject Timelines"
      ]
    },
    {
      "cell_type": "markdown",
      "metadata": {
        "id": "FWsr9zPHtMrg",
        "colab_type": "text"
      },
      "source": [
        "##**6.1 Project Time Estimate Gantt Chart**\n",
        "\n",
        "The table below shows project’s time estimate for each scope and the whole project:\n",
        "\n",
        "<img src=\"https://github.com/Esbella1314/ML-Ass-1-Yuting-Cao-13149505/blob/master/Gantt%20Chart.png?raw=true\" width=\"750\"/>\n",
        "\n",
        " Table 5: Project Time Estimate Gantt Chart\n",
        " \n",
        " ## **6.2 Project Schedule Management**\n",
        " To do a better project schedule management needs to look at the project schedule from different angles to uncover problems and find out what to do about them. Managing the project schedule involves determining the delivery dates and milestones whilst taking all of the known constraints into account.\n",
        "Managing the project schedule involves planning the work and working the plan as follows:\n",
        "*\tDefining the activities, building the WBS to state all the tasks in details\n",
        "*\tSequencing the Activities, using Gantt chart to record the timelines\n",
        "*\tEstimating the Required Resources, make sure all the resources are already ahead\n",
        "*\tEstimating the Time Required, keep project timeline in head to make sure it’s all on track\n",
        "*\tDeveloping the Schedule, making accurate schedule for each task, breaking big timelines into every small task timeline\n",
        "*\tControlling the Plans and Schedules. The plans might be adjusted all the time when they are implemented, sometimes, the project might be rescheduled as well, but it doesn’t mean that no way to control changes and schedules, to reach the aims, they still should be controlled in a good way.\n",
        "\n",
        " \n",
        "\n"
      ]
    },
    {
      "cell_type": "markdown",
      "metadata": {
        "id": "96d5oe0K1L6m",
        "colab_type": "text"
      },
      "source": [
        ""
      ]
    },
    {
      "cell_type": "markdown",
      "metadata": {
        "id": "PuGEN-yOtMri",
        "colab_type": "text"
      },
      "source": [
        ""
      ]
    },
    {
      "cell_type": "markdown",
      "metadata": {
        "id": "dZi6zIWY1U61",
        "colab_type": "text"
      },
      "source": [
        "# 新段落"
      ]
    },
    {
      "cell_type": "markdown",
      "metadata": {
        "id": "S9y16eMC1XJE",
        "colab_type": "text"
      },
      "source": [
        "# 新段落"
      ]
    },
    {
      "cell_type": "markdown",
      "metadata": {
        "id": "iR1h6IVK1YYA",
        "colab_type": "text"
      },
      "source": [
        "## References\n",
        "\n",
        "[SHA48][1]: Author, Title, Info\n",
        "\n",
        "[1]:https://google.com"
      ]
    }
  ]
}
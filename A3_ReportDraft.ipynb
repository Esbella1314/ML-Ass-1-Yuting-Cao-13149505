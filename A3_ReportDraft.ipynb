{
  "nbformat": 4,
  "nbformat_minor": 0,
  "metadata": {
    "kernelspec": {
      "display_name": "Python 3",
      "language": "python",
      "name": "python3"
    },
    "language_info": {
      "codemirror_mode": {
        "name": "ipython",
        "version": 3
      },
      "file_extension": ".py",
      "mimetype": "text/x-python",
      "name": "python",
      "nbconvert_exporter": "python",
      "pygments_lexer": "ipython3",
      "version": "3.5.4"
    },
    "toc": {
      "base_numbering": 1,
      "nav_menu": {},
      "number_sections": true,
      "sideBar": true,
      "skip_h1_title": false,
      "title_cell": "Table of Contents",
      "title_sidebar": "Contents",
      "toc_cell": false,
      "toc_position": {},
      "toc_section_display": true,
      "toc_window_display": false
    },
    "colab": {
      "name": "A3_ReportDraft.ipynb",
      "provenance": []
    }
  },
  "cells": [
    {
      "cell_type": "markdown",
      "metadata": {
        "id": "RSuXXcZ1tMq-",
        "colab_type": "text"
      },
      "source": [
        "# Oral-English Training Marketing Investment Analysis\n",
        "\n",
        "[Link to Notebook Version of This Report](https://colab.research.google.com/github/Esbella1314/ML-Ass-1-Yuting-Cao-13149505/blob/master/A1_ReportDraft.ipynb#scrollTo=qgqWnaYlNr0c)"
      ]
    },
    {
      "cell_type": "markdown",
      "metadata": {
        "id": "xeEnqwGjtMrY",
        "colab_type": "text"
      },
      "source": [
        "Subject Name:\t\t32513 Machine Learning\n",
        "\n",
        "Students Name:     Yuting Cao                   \n",
        "Student ID:        13149505                \n",
        "Student Email:     yuting.cao@student.uts.edu.au\n",
        "\n",
        "\n",
        "Github Link: https://github.com/Esbella1314/ML-Ass-1-Yuting-Cao-13149505/blob/master/A3_ReportDraft.ipynb\n",
        "\n",
        "Video Pitch Link: https://www.youtube.com/watch?v=ToVTqFBDNWo&feature=youtu.be"
      ]
    },
    {
      "cell_type": "markdown",
      "metadata": {
        "id": "Q9WeA4HotMrZ",
        "colab_type": "text"
      },
      "source": [
        "# 1\tProject Background"
      ]
    },
    {
      "cell_type": "markdown",
      "metadata": {
        "id": "slla7sCSuMn_",
        "colab_type": "text"
      },
      "source": [
        "As people all know that Chinese students are very diligent, many of us have learnt English for many years, our English foundation is very steadily, however, most of us are just good at reading and writing, the English practical application ability is very poor, when we need to speak or listening, we are weaker than many other countries’ students. \n",
        "China has open herself to the whole world for many years and China is still developing very fast. English is the number one worldwide language, if we can acknowledge English, then it means we have the key to know the world. Our Chinese students should improve the English practical application ability, can understand what other people are saying and expressing our thoughts clearly as well. We should communicate with the world, go to a bigger world, to be international.\n",
        "Quality-oriented education is the trend of future education, I used to operate this program in Wuhan, China from 2012 to 2014 which is to open an English training center to train people’s English listening and speaking ability. This is a very good program with great future which is aiming to help people who want to improve their English communicate ability. I was very optimistic about this program, I thought that many people will love my ideas and come to study in my training center, before I did marketing investment, I did not do any data analysis but just invest a lot money in marketing with my subjective judgment, and the result is that I lost a big amount of money in marketing investment with very low revenue.\n",
        "At the same time, I find out that even though the Oral-English training marketing still have get a hug part to share, but since most of the students are not interested in Oral-English, they think that it’s useless, what they want is to have CET-4 and CET-6 trainings to pass those English exams, so find the target people and make an efficient marketing investment is very necessary instead of spending money in each place to try good luck. \n",
        "Because of those fail reasons, now I need to do data analysis and project planning ahead to improve the successful rate of the project."
      ]
    },
    {
      "cell_type": "markdown",
      "metadata": {
        "id": "ahvdcgIstMra",
        "colab_type": "text"
      },
      "source": [
        "# 2\tProject Value"
      ]
    },
    {
      "cell_type": "markdown",
      "metadata": {
        "id": "l9GlZgaqtMrb",
        "colab_type": "text"
      },
      "source": [
        "The purpose of this paper is to give information about Oral-English training marketing investment in Wuhan, China. This is a project which helps the Oral-English training center to make accurate marketing analysis and marketing investment decisions based on the marketing data analysis.\n",
        "The exam-oriented education makes us forget what’s the real meaning of studying, studying should be because we want to study, we love that domain but not just for passing the exams. There are some people who want to learn English really well, or want to study abroad, or want to work in the foreign companies, all of them want to have a good and real communication with the world, but because of poor English communication ability, it has limit their chances to go further.\n",
        "This project will only be executed in Wuhan, China, so all the data I collect in this paper are based in the Wuhan marketing. In Wuhan, the Oral-English training is still very new, there is a big potential marketing in this domain. There are only a few training centers who provide Oral-English trainings such as New Oriental and Meten English. So, the marketing competition isn’t that intense yet, with the Oral-English training demanding is increasing, seizing the market opportunity is very important.\n",
        "The project value statement is providing the best solutions to make marketing promotion strategies. Deciding where to put the advertisements, how and when to make promotions to approach the best value to target customers. This project will be done in one year."
      ]
    },
    {
      "cell_type": "markdown",
      "metadata": {
        "id": "no73a9uWtMrc",
        "colab_type": "text"
      },
      "source": [
        "# 3\tProject Aims"
      ]
    },
    {
      "cell_type": "markdown",
      "metadata": {
        "id": "MB40XxEntMrc",
        "colab_type": "text"
      },
      "source": [
        "The following are the aims of the project: \n",
        "*\tOffering a good oral-English training service to customers\n",
        "*\tIncreasing the portion of oral-English training market controlled by the company which I created\n",
        "*\tFinding right target customers and the best model to improve marketing investment efficiency"
      ]
    },
    {
      "cell_type": "markdown",
      "metadata": {
        "id": "BKGbDNmFtMrd",
        "colab_type": "text"
      },
      "source": [
        "# 4\tProject Objectives"
      ]
    },
    {
      "cell_type": "markdown",
      "metadata": {
        "id": "y1aEH7zftMre",
        "colab_type": "text"
      },
      "source": [
        "The project objectives are as below:\n",
        "*\tGathering the marketing requirements\n",
        "*\tImplementing requests for proposal for project approval\n",
        "*\tCreating network environment for data collection, analysis and presentation\n",
        "*\tCollecting past marketing data from other Oral-English training organizations\n",
        "*\tBuilding database for data analysis preparation\n",
        "*\tBuilding models to analyze the past marketing data which coming from other Oral-English training organization\n",
        "*\tDeciding what marketing solutions to be implemented\n",
        "*\tDesigning marketing processes\n",
        "*\tImplementing marketing solutions online and offline\n",
        "*\tCollecting new marketing data and evaluating whether the marketing models are working great in marketing\n",
        "*\tValidating marketing processes based on the marketing data evaluations.\n",
        "*\tCreating a new marketing strategy\n",
        "*\tImplementing new marketing solutions online and offline\n",
        "*\tOpening classes to start Oral-English training and keep tracking marketing data\n"
      ]
    },
    {
      "cell_type": "markdown",
      "metadata": {
        "id": "mdaTvGpAtMre",
        "colab_type": "text"
      },
      "source": [
        "# 5\tWork Breakdown Structure "
      ]
    },
    {
      "cell_type": "markdown",
      "metadata": {
        "id": "MtRVmqc1tMrf",
        "colab_type": "text"
      },
      "source": [
        "The Work Breakdown Structure is the most important part of the project management process. The Work Breakdown Structure offers the project manager and its team a chance to break a high-level scope statement down into smaller, better manageable units of work.\n",
        "The task list of the project is showing in the tables as below:\n",
        "\n",
        "\n",
        "<img src=\"https://github.com/Esbella1314/ML-Ass-1-Yuting-Cao-13149505/blob/master/Table%201.png\n",
        "?raw=true\" width=\"550\"/>\n",
        "\n",
        "Table 1: Scope Item: Request for Proposal (RFP) Approval Process\n",
        "\n",
        "\n",
        "\n",
        "\n",
        "<img src=\"https://github.com/Esbella1314/ML-Ass-1-Yuting-Cao-13149505/blob/master/Table%202.png\n",
        "?raw=true\" width=\"500\"/>\n",
        "\n",
        "Table 2: Scope Item: Analyze Past Data and Make Marketing Plans\n",
        "\n",
        "\n",
        "<img src=\"https://github.com/Esbella1314/ML-Ass-1-Yuting-Cao-13149505/blob/master/Table%203.png\n",
        "?raw=true\" width=\"500\"/>\n",
        "\n",
        "Table 3: Scope Item: Evaluate Past Data and Analyze New Data\n",
        "\n",
        "<img src=\"https://github.com/Esbella1314/ML-Ass-1-Yuting-Cao-13149505/blob/master/Table%204.png\n",
        "?raw=true\" width=\"500\"/>\n",
        "\n",
        "Table 4: Scope Item: Close Project"
      ]
    },
    {
      "cell_type": "markdown",
      "metadata": {
        "id": "XlQDABNytMrg",
        "colab_type": "text"
      },
      "source": [
        "# 6\tProject Timelines"
      ]
    },
    {
      "cell_type": "markdown",
      "metadata": {
        "id": "FWsr9zPHtMrg",
        "colab_type": "text"
      },
      "source": [
        "##**6.1 Project Time Estimate Gantt Chart**\n",
        "\n",
        "The table below shows project’s time estimate for each scope and the whole project,the project will be done in one year:\n",
        "\n",
        "<img src=\"https://github.com/Esbella1314/ML-Ass-1-Yuting-Cao-13149505/blob/master/Gantt%20Chart.png?raw=true\" width=\"800\"/>\n",
        "\n",
        " Table 5: Project Time Estimate Gantt Chart\n",
        " \n",
        " ## **6.2 Project Schedule Management**\n",
        " To do a better project schedule management needs to look at the project schedule from different angles to uncover problems and find out what to do about them. Managing the project schedule involves determining the delivery dates and milestones whilst taking all of the known constraints into account.\n",
        "Managing the project schedule involves planning the work and working the plan as follows:\n",
        "*\tDefining the activities, building the WBS to state all the tasks in details\n",
        "*\tSequencing the Activities, using Gantt chart to record the timelines\n",
        "*\tEstimating the Required Resources, make sure all the resources are already ahead\n",
        "*\tEstimating the Time Required, keep project timeline in head to make sure it’s all on track\n",
        "*\tDeveloping the Schedule, making accurate schedule for each task, breaking big timelines into every small task timeline\n",
        "*\tControlling the Plans and Schedules. The plans might be adjusted all the time when they are implemented, sometimes, the project might be rescheduled as well, but it doesn’t mean that no way to control changes and schedules, to reach the aims, they still should be controlled in a good way.\n",
        "\n",
        " \n",
        "\n"
      ]
    },
    {
      "cell_type": "markdown",
      "metadata": {
        "id": "dZi6zIWY1U61",
        "colab_type": "text"
      },
      "source": [
        "# 7 Building Model and Doing Data Analysis\n",
        "\n",
        "Marketing data analysis is very important. The project team collect data from the past to build model and find the most suitable group of schemas to do promotion. By building model and making data analysis, we will find out where are our target customers, how to do promotion, where to reach target customers and when to do promotion. What’s more, from those data, we will find out that different schema has different weight, we will know that for each schema, how much percentage we will invest on it. For example, we find out that Wuhan university has the biggest amount of target customers, Wuhan Huazhong Normal University has the second biggest group of customer, and by giving speeches there attract more customer, giving out fliers get many customers as well, moreover, every year in September more customers will choose to study in Oral-English training center, February is another peak time which get more customers, etc., so by look at the data analysis result, the stakeholders can decide where, how and when to do marketing promotion, and how much they should invest in each schema to approach the maximization of revenue. \n",
        "When the marketing promotion start to implement, the project team need to evaluation the model to see if it works great or not and the new data will be collected as well. After the first run of promotion is done, based on the evaluation result and analyze the new data to adjust the promotion strategy, then implement the new marketing plans, keep evaluation and tracking new data to adjust the promotion strategies on time. \n",
        "\n",
        "##**7.1 Identifying Target Customers**\n",
        "\n",
        "The first step is to find out who are the target customers, there are four types of target customers which are:\n",
        "* People who are interested in learning oral-English and know other countries’ culture\n",
        "* People who are going to study or live abroad which require English communication\n",
        "* People who want to work in companies and need to communicate in English\n",
        "* People who already work in companies and need to communicate in English and need to improve their oral-English\n",
        "\n",
        "##**7.2 Target Customer Classifiers**\n",
        "\n",
        "###**7.2.1 Target Customer Distributions**\n",
        "\n",
        "* Sex\n",
        "\n",
        "Different sex among target customers. Analysis if most of the target customers are male or female.\n",
        "\n",
        "* Age\n",
        "\n",
        "Different ages among target customers. Analysis what age arrange of customers are more likely to learn Oral-English.\n",
        "\n",
        "* Occupation\n",
        "\n",
        "Different occupations among target customers. Analysis what occupations of customers are more interested in improving Oral-English skills, students, office staff or company managements? \n",
        "\n",
        "* Salary\n",
        "\n",
        "Different salary levels among target customers. Analysis what salary arrange of customers are more likely to learn Oral-English\n",
        "\n",
        "* Major\n",
        "\n",
        "Different majors in different schools will have different weight of target customers. For example, students whose major is mathematics, probably most of them will not be interested in learning Oral-English since they probably do not need this skill in future career but others who study in foreign trading will have bigger possibilities to work in foreign companies and need to improve their oral-English abilities more.\n",
        "\n",
        "* Grade \n",
        "\n",
        "Different grades of students may have different needs in studying Oral-English too. The first year and last year university students\n",
        "\n",
        "###**7.2.2 Target Customer Locations**\n",
        "\n",
        "After finding out the target customers, we need to figure out where to find it. There are some ways to find out where they are, please see as below:\n",
        "\n",
        "*\tRegion Distribution \n",
        "\n",
        "Different regions in Wuhan, China may have different amount of target customers. For example, in the CBD may have biggest amount of customer which is good for the companies to make promotions there. But some area such as tourist places may get much less interested customers.\n",
        "\n",
        "*\tSchools Distribution\n",
        "\n",
        "There are many different schools in Wuhan. Working with schools to get their help with making promotions among the students who study there and support us to make promotion activities there. Some schools such as some high schools will have more than half amount of students study abroad after graduating, and Wuhan university which have many students have a lot of chances to use English to communicate with foreigners, moreover, they have high standard in requiring themselves to gain English communication skills make it has more target students which worthy to spend money and time on it. Some schools like New Oriental cooking school which has very low desire in learning Oral-English, so it’s not necessary to have the cooperation with this kind of schools. \n",
        "\n",
        "* Locations inside Schools\n",
        "\n",
        "Making promotion activities in different locations in different schools may have different results. Making promotions such as attaching posts, giving out fliers and make promotion stalls in some locations such as outside of Canteen and library, in classroom, English corner and student dorms may attract more target customers than other locations in the same school.\n",
        "\n",
        "*\tForeign Companies\n",
        "\n",
        "Finding companies who need to give Oral-English trainings to their staff to have the corporation.\n",
        "\n",
        "* Outside of English Testing Centers\n",
        "\n",
        "People who are going abroad to study or live need to take English tests such as IELTS, TOEFL or GRE. Etc., they are big target customers since not many people can get good score for the first time, their English still need improvements. So, making promotion activities outside of the English testing places to attract target customers is an important strategy.\n",
        "\n",
        "*\tOnline Advertisements. \n",
        "\n",
        "Online advertising is a very important channel for marketing promotion. Find out the suitable platforms to do advertising promotion and analysis who are our target customers online to send special advertisements to get their attentions.\n",
        "\n",
        "###**7.2.3 Reaching Target Customer Methods**\n",
        "\n",
        "After finding out where to find the target customers, the next step is to see how to make promotions to those people. There are several ways to do promotion which are:\n",
        "\n",
        "*\tDistributors\n",
        "\n",
        "Working with good quality distributors to get students resource, mark distributors with different star levels based on their past behaviors which work with companies. A good distributor should have wide student resource which we need, great marketing ability and strong executive force.\n",
        "\n",
        "*\tSpeeches\n",
        "\n",
        "Inviting special guests such as famous person in the Oral-English training domain to give speeches in schools and foreign companies to help customers know the Oral-English training center better and gain interests.\n",
        "\n",
        "*\tPromotion events\n",
        "\n",
        "Making promotion events such as introducing company services and giving out small gifts or holding parties in schools, foreign companies and special English communication events to attract target customers.\n",
        "\n",
        "*\tOther English Related Events\n",
        "\n",
        "Working with organizations who always hold English communication events and attend English communication events to make promotions to the target customers.\n",
        "\n",
        "*\tPoster\n",
        "\n",
        "Making good quality posters to post at schools, distributors, foreign companies, English communication events and other public areas such as big shopping centers.\n",
        "\n",
        "*\tFlier\n",
        "\n",
        "Making high quality fliers to give to target customers.\n",
        "\n",
        "*\tNewspaper\n",
        "\n",
        "Finding newspapers which have a big amount of target customers to read.\n",
        "\n",
        "*\tMagazine\n",
        "\n",
        "Finding magazines which have a big amount of target customers to read.\n",
        "\n",
        "* Radio\n",
        "\n",
        "Finding radio channels which have a big amount of target customers to listen or make radios in schools.\n",
        "\n",
        "*\tPhone Call or Texting \n",
        "After getting some target customer information, can call or text them to introduce the company Oral-English training service.\n",
        "\n",
        "*\tTrail Class\n",
        "Encouraging target customers to try the trail class to know the training center more and improve their interests to study here.\n",
        "\n",
        "*\tOnline Advertisements \n",
        "\n",
        "Choosing good websites, platforms or apps which have many target customers always view them to put advertisements. And tracking customer internet surfing habits online, find protentional customers who need oral-English training more probably to send advertisements.\n",
        "\n",
        "###**7.2.4 Reaching Target Customer Timing**\n",
        "\n",
        "Then final step is to decide when will we do the promotion, which are:\n",
        "\n",
        "*\tJanuary to December\n",
        "\n",
        "Doing promotion in different months in a year will have different results. For example, every year in beginning of September and February are the months when students are back to schools, January and July are the months when students are starting to have breaks. Normally doing promotion when students are just back to school or the last month when students are going to have school breaks will get more target students, but when it’s the school breaks, it will be hard to get students.\n",
        "\n",
        "* Spring & Summer & Autumn & Winter\n",
        "\n",
        "Different seasons get different target customers too, such as spring and summer may get much students than autumn and winter.\n",
        "\n",
        "* Morning & Afternoon & Evening\n",
        "\n",
        "Different time of the day to do promotion is different as well. Doing promotion in the afternoon and evening is much better than morning.\n",
        "\n"
      ]
    },
    {
      "cell_type": "markdown",
      "metadata": {
        "id": "S9y16eMC1XJE",
        "colab_type": "text"
      },
      "source": [
        "# 8 Evaluation "
      ]
    },
    {
      "cell_type": "markdown",
      "metadata": {
        "id": "eq96Bpwr63qq",
        "colab_type": "text"
      },
      "source": [
        "The project manager needs to evaluate work by reviewing cost, schedule reports, how many students who pay for the training fee to be the Oral-English training center’s students for each schema and how much money the training center has got back in different period. \n",
        "Evaluation analysis compares the actual work implemented at any time with the original schedule, budget and plans. It makes forecasts about the final result gives people the significant early warning signal that things are going wrong.\n",
        "\n",
        "The model which data analysists have built shows the number of students which training center will get by using each schema. Each schema contains a series of numbers which are assigned for each attribute. To be more specific, the best schema should tell which place will be the best place to do promotion, which method will receive the best result to do marketing and when is the best time to do promotion, What’s more, the data analysis will get accuracy to tell how good the model and schema is, and use this schema, how many students the training center will get.\n",
        "\n",
        "So, the data for evaluating the model are as below:\n",
        "\n",
        "*\tNumber of final students who paid for the training fee from different sex, age, occupations, salary level, majors and grades.\n",
        "\n",
        "* Number of final students who paid for the training fee from different regions in Wuhan, schools, locations in schools, foreign companies and outside of English testing centers.\n",
        "\n",
        "* Number of final students who paid for the training fee from different online platforms, apps, websites and people who see the advertisements individually.\n",
        "\n",
        "*\tNumber of final students who paid for the training fee from different distributors, speeches, promotion events, other English communication events, posters, fliers, newspapers, magazines, radio, phone calls or texting and trail classes.\n",
        "\n",
        "*\tNumber of final students who paid for the training fee from different months, seasons of a year and time of a day.\n",
        "\n",
        "Analysis the results and compare with the old model data to see if the company reach the goal by using the model or not.\n",
        "\n",
        "There is an acceptable variance between the results. If the differences are between the acceptable tolerance interval, then no need to make big changed on the marketing plans. But if it’s out of the tolerance interval, then have to adjust the model and make big change for the plans for the next run of marketing promotion.\n"
      ]
    },
    {
      "cell_type": "markdown",
      "metadata": {
        "id": "iR1h6IVK1YYA",
        "colab_type": "text"
      },
      "source": [
        "# 9\tProject Budget\n",
        "\n",
        "This project will last for one year, each item of project budget is the total price of the whole year. The table below shows the suggested budget components are:\n",
        "\n",
        "<img src=\"https://github.com/Esbella1314/ML-Ass-1-Yuting-Cao-13149505/blob/master/Project%20Budget.png?raw=true\" width=\"500\"/>\n",
        "\n",
        "Table 6: Project Budget"
      ]
    },
    {
      "cell_type": "markdown",
      "metadata": {
        "id": "baej6Wy97IXn",
        "colab_type": "text"
      },
      "source": [
        "# 10\tPersonnel"
      ]
    },
    {
      "cell_type": "markdown",
      "metadata": {
        "id": "q2gLjYqo8Iuo",
        "colab_type": "text"
      },
      "source": [
        "##**10.1 Project Stakeholders**\n",
        "\n",
        "Stakeholders are those with any interest in your project's outcome, they are the group of people who invested in the project and will be affected by project at any point, and their input can directly impact the outcome. They are typically the members of a project team, project managers, executives, project sponsors, customers, and users [1]. \n",
        "\n",
        "All project stakeholders get benefits from the projects. The table below shows the information of the project stakeholders:\n",
        "\n",
        "\n",
        "\n",
        "<img src=\"https://github.com/Esbella1314/ML-Ass-1-Yuting-Cao-13149505/blob/master/Stakeholder.png?raw=true\" width=\"500\"/>\n",
        " \n",
        "Table 7: Project Stakeholders Information\n",
        "\n",
        "##**10.2 Project Team Members**\n",
        "\n",
        "There are 7 people in total in this project team. One project manager who is managing all the staffs, one online data admin, one offline data admin, one online data analysist, one offline data analysist, one business intelligent analysist and one IT support. \n",
        "\n",
        "Please see the project team organization chart as below in figure 1:\n",
        "\n",
        "<img src=\"https://github.com/Esbella1314/ML-Ass-1-Yuting-Cao-13149505/blob/master/O%20Chart.png?raw=true\" width=\"900\"/>\n",
        "\n",
        "Figure 1 Project Team Organization Chart\n",
        "\n",
        "\n",
        "Different people in the project team are responsible for different things, everyone works together to push the project and make sure that the project will be completed on time with high standard. Please see the project team members job descriptions as below in table 8:\n",
        "\n",
        "<img src=\"https://github.com/Esbella1314/ML-Ass-1-Yuting-Cao-13149505/blob/master/Personnel.png?raw=true\" width=\"900\"/>\n",
        "\n",
        "Table 8: Project Team Members Job Responsivities\n",
        "\n",
        "\n",
        "\n",
        "\n"
      ]
    },
    {
      "cell_type": "markdown",
      "metadata": {
        "id": "NEMJaFGX7KS9",
        "colab_type": "text"
      },
      "source": [
        "# 11 References"
      ]
    },
    {
      "cell_type": "markdown",
      "metadata": {
        "id": "R427zjvbAKuP",
        "colab_type": "text"
      },
      "source": [
        "[1] Wrike (2013), What is a Stakeholder in Project Management?, Wrike, Inc, United States, viewed 8 October 2019, https://www.wrike.com/project-management-guide/faq/what-is-a-stakeholder-in-project-management/"
      ]
    }
  ]
}
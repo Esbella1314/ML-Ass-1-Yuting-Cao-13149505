{
  "nbformat": 4,
  "nbformat_minor": 0,
  "metadata": {
    "kernelspec": {
      "display_name": "Python 3",
      "language": "python",
      "name": "python3"
    },
    "language_info": {
      "codemirror_mode": {
        "name": "ipython",
        "version": 3
      },
      "file_extension": ".py",
      "mimetype": "text/x-python",
      "name": "python",
      "nbconvert_exporter": "python",
      "pygments_lexer": "ipython3",
      "version": "3.5.4"
    },
    "toc": {
      "base_numbering": 1,
      "nav_menu": {},
      "number_sections": true,
      "sideBar": true,
      "skip_h1_title": false,
      "title_cell": "Table of Contents",
      "title_sidebar": "Contents",
      "toc_cell": false,
      "toc_position": {},
      "toc_section_display": true,
      "toc_window_display": false
    },
    "colab": {
      "name": "A1_ReportDraft.ipynb",
      "version": "0.3.2",
      "provenance": []
    }
  },
  "cells": [
    {
      "cell_type": "markdown",
      "metadata": {
        "id": "vqsPX3dLNr0Z",
        "colab_type": "text"
      },
      "source": [
        "# Draft and Experiment Area"
      ]
    },
    {
      "cell_type": "markdown",
      "metadata": {
        "id": "lxSly7XnNr0b",
        "colab_type": "text"
      },
      "source": [
        "1. First impression\n",
        "    * What is my chosen paper to read?\n",
        "    * What type of the main contribution the paper has made?\n",
        "        - A theory or proposition (revealing something, from unknown to known)\n",
        "        - A method or algorithm (inventing a technique, from undoable to doable)\n",
        "\n",
        "    * _Before_ reading the main body of the paper, write down your first impression  obtained from its abstract and short introduction.\n",
        "    * Why does the paper attract you, such as, How it surprised you? Why do you think it addresses an important topic that will be helpful in your future study of machine learning?\n",
        "    \n",
        "2. Read the paper abstract and introduction, list here all the notions that you don't know the precise meaning. If you think you have completed your list,  compare the list with people around you who have chosen the same or a similar paper.\n",
        "\n",
        "3. (During the next 7 days) Re-consider the central problem of the paper."
      ]
    },
    {
      "cell_type": "markdown",
      "metadata": {
        "id": "qgqWnaYlNr0c",
        "colab_type": "text"
      },
      "source": [
        "# Review Report on \"PaperName\""
      ]
    },
    {
      "cell_type": "markdown",
      "metadata": {
        "id": "uMIr6dJ8N33z",
        "colab_type": "text"
      },
      "source": [
        "**Paper Name:Bayesian Networks**\n",
        "\n",
        "Subject Name:\t\t32513 Machine Learning\n",
        "Students Name:     Yuting Cao                   \n",
        "Student ID:        13149505                \n",
        "Student Email:     yuting.cao@student.uts.edu.au\n",
        "\n",
        "\n",
        "Github Link: https://github.com/Esbella1314/ML-Ass-1-Yuting-Cao-13149505/blob/master/A1_ReportDraft.ipynb"
      ]
    },
    {
      "cell_type": "markdown",
      "metadata": {
        "id": "A4C5h1MpN3fv",
        "colab_type": "text"
      },
      "source": [
        ""
      ]
    },
    {
      "cell_type": "markdown",
      "metadata": {
        "id": "WDOKSARXNr0d",
        "colab_type": "text"
      },
      "source": [
        "## Introduction"
      ]
    },
    {
      "cell_type": "markdown",
      "metadata": {
        "id": "GxSQcnN2NyiG",
        "colab_type": "text"
      },
      "source": [
        "Bayesian belief networks is also called reliability network. It’s the extension of Bayesian method, it’s a very effective theory model in inference domain and to explain the unsure knowledge. It’s a natural and efficient method for representing probabilistic dependencies among a set of variables [1]. Although Bayesian belief networks is a very complicated algorithm, but it still reduces the big amount of calculation work which increase the efficiency a lot.\n",
        "This paper is using Bayesian belief networks to solve the probabilistic inference problem with a high-quality result. This article chooses the 3SAT as an example to explain how to use belief networks to transform this NP-Complete problem to NP-Hard to solve the probabilistic inference problem. The author has showed the processes how to transform the 3SAT problem to NP-Hard, and at the end of this paper, the author also proved that the NP-Complete problem has been transformed to NP-hard.\n",
        "However, there is no any algorithm which can fit all the problems, for different cases, we will need to find the most suitable and effective algorithm to solve the problems.\n"
      ]
    },
    {
      "cell_type": "markdown",
      "metadata": {
        "id": "LtTa57trNr0e",
        "colab_type": "text"
      },
      "source": [
        "## Content"
      ]
    },
    {
      "cell_type": "markdown",
      "metadata": {
        "id": "NxWTSavyOpq3",
        "colab_type": "text"
      },
      "source": [
        "The research is about introducing how to use Bayesian belief networks in probabilistic inference. A theorem has been proved that the 3SAT problem has been transformed from NP-Complete to NP-Hard through Bayesian belief networks algorithm. \n",
        "\n",
        "**2.1 Bayesian Belief Networks**\n",
        "\n",
        "Bayesian belief networks is made by directed acyclic graph (DAG) and conditional probability table (CPT) [2]. The DAG contains the node variables and directed edges which connect those node variables. The node variables stand for random variables, the directed edges stand for the relationships between those node variables (The parent node points to the children node points), and the conditional probability means the relationship strength between node variables, if there is no parent node variable, then represent by priori probability. Those node variables can be any abstract problem.\n",
        " \n",
        "Figure 1: Directed Acyclic Graph\n",
        "From the figure 1 as above, we can see that even if an arc from node a or b to a node c usually means that c is caused by a and b, it's not just one possibility to explain the arcs in Bayesian networks. So, Bayesian networks can represent not only causal relationships but some other relationships as well. The Bayesian networks represent for the rule-based systems of probabilistic.\n",
        "Bayesian belief network has a great function on reducing assessing and storing the amount of probabilities. Bayesian is the algorithm which can explain the conditional probability and edge probability.\n",
        "This article will only discuss the probabilities when Y=T, not need to consider about the situation such as Y=F.\n",
        "\n",
        "**2.2 The Definition of 3SAT**\n",
        "\n",
        "This article is using 3SAT as an example, trying to transform this problem from NP-complete to NP-hard problem.\n",
        "As you can see that the 3SAT has three levels which are U, C, D. Every C is satisfactory or not depends on the a few corresponding U variables. Then the final Y is Ture or False based on both the corresponding C and U variables. Here in the figure 2, every clause 〖c 〗_i includes a disjunction of three U.\n",
        " \n",
        "Figure 2: 3SAT Directed Acyclic Graph\n",
        "The 3SAT problem involves a few collections, the values are set as Boolean variables (True and False), we record them as C = {c1, c2, …, cm}, U = {u1, u2, …, un}. ¬c and c are literals over C, c stands for true(T) while ¬c stands for false(F). Similarly, ¬u and u are both literals over U, and u stands for true (T) while ¬u stands for false (F).\n",
        "\n",
        "**2.2.1 Set Collections for U and C**\n",
        "\n",
        "Please see the u and c relationship example in table 1 as below:\n",
        "\tc_1=(u_1 〖∪u〗_2∪u_3)\n",
        "Node Variables\tc_1\t¬u_1\t¬u_2\t〖¬u〗_3\n",
        "Boolean Result\tT\tT\tF\tT\n",
        "Table 1: u and c Relationship Example\n",
        "Every C is connected with a few U, only when all the U which connect with C are satisfiable, the corresponding C will be satisfiable as well. The 3SAT problem here is making decision about whether there is a set of collections U can satisfy all the clauses in C as well. Please see the example in table 2 as below:\n",
        "\tU={u_1 〖,u〗_2,u_3 ┤ ├ ,u_4 }\n",
        "\tC={(u_1∪u_2∪u_3 )┤ ├ ,(¬u_1∪〖¬u〗_2∪u_3 ),(u_2∪〖¬u〗_3∪u_4 )}\n",
        "Node Variables\tu_1\tu_2\tu_3\tu_4\n",
        "Boolean Result\tT\tF\tF\tT\n",
        "Node Variables\tu_1∪u_2∪u_3\t¬u_1∪〖¬u〗_2∪u_3\tu_2∪〖¬u〗_3∪u_4\tC\n",
        "Boolean Result\tT\tF\tT\tT\n",
        "Table 2: U and C Relationship Example\n",
        "\n",
        "**2.2.2 Set Collections for U_α and C_β**\n",
        "\n",
        "Define U_α  to be the αth variable among the whole set of U, and α belongs to 1≤ i ≤ n. When u_i= T, the corresponding ith digital of binary is 1, to the contrary, when u_i= F, the corresponding ith digital of binary is 0. U_S means the all the variables in U satisfy C. C_S  means that for every variable C_j, the value is T, and β belongs to 1≤j≤m. C_β stands for the βth variable among the whole set of C_j, and is defined analogously to U_α.\n",
        "α,β are using the binary way to record the data. The order is from right to left.\n",
        "Uα, 1≤i≤n, for instance, U5 stands for 0101, which is u1 = T, u2 = F, u3 = T, u4 = F.\n",
        "C_β, 1≤j≤m, it’s similar to U5, when it’s C5, it means that the binary is 0101 as well. Please see the table 3 for the details as below \n",
        "Variables\tu_1\tu_2\tu_3\tu_4\tTotal\n",
        "Booleans\tT\tF\tT\tF\t\n",
        "Binary\t2^0\t2^1\t2^2\t2^3\t\n",
        "Calculation\t1\t0\t1\t0\t5\n",
        "Table 3: U_5 Binary Example\n",
        "\n",
        "**2.3 Probabilistic Inference **\n",
        "\n",
        "The phrase probabilistic inference using belief networks typically has been used to mean the calculation of P(A|B) [3].\n",
        "Generally, event A’s the probability while B happening is different from event B’s probability while A happening, however, those two have some connections, the formula is as below:\n",
        "\tP(A|B) = P(A) P(B/A) / P(B)\n",
        "P(A|B): Event A’s probability when the condition is that B happened already. P(A/B) is called event A’s posterior probability.\n",
        "\tP(B|A): Similarly, P(B|A) means event B’s probability when the condition is that A has happened, the conditional probability of event B, and P(B|A) is also called event B’s posterior probability.\n",
        "\tP(A): Event A’s edge probability or priori probability, it’s called priori because it doesn’t need to consider any factor about event B. \n",
        "\tP(B): Similarly, this is called event B’s edge probability or priori probability. It’s always used as normalized constant as well.\n",
        "\tP(B|A)/P(B) is always named standardized likelihood.\n",
        "In summary, Bayesian algorithm formula is as below:\n",
        "\tPosterior Probability = (Similarity * Priori Probability) / Normalized Constant\n",
        "\tPosterior Probability = Standardized Likelihood * Priori Probability \n",
        "If the propositional variable Y does not have any clear conditional information or task to determine P (Y = T), the form of probabilistic inference results will be very restricted. In this paper, all the probabilistic inference with other forms are general calculations of P (Y= T). \n",
        "In order to prove that calculating P (Y= T) is NP-hard, the author proves that the other probabilistic inference with more generalization forms are NP-hard problems too in this paper.\n",
        "\n",
        "**2.4 Bayesian Networks Formulas for 3SAT**\n",
        "\n",
        "Step1: Set collections for C and U variables\n",
        "The 3SAT problem involves a few collections, the values are set as Boolean variables (True and False), we record them as C = {c1, c2, …, cm}, U = {u1, u2, …, un}. ¬c and c are literals over C, c stands for true(T) while ¬c stands for false(F). Similarly, ¬u and u are literals over U, and u stands for true(T) while ¬u stands for false(F).\n",
        "\tU = {u1, u2, …, un}\n",
        "\tC = {c1, c2, …, cm}\n",
        "\tWhen P (Y=T) > 0, PIBNETD comes out with the result ‘Yes’\n",
        "\tWhen P(Y=T) ≤ 0, PIBNETD comes out with the result ‘No’\n",
        "Step 2: Set probabilities for node variables and directed edges\n",
        "There are different probabilities stand for the different node variables and directed edges. Recording the Bayesian Network as BN which is represent as (V, A, P), V stands for a set of nodes or vertices. A stands for a set of arcs between different variables, P stands for a set of probabilities for different variables.\n",
        "\tBN = (V, A, P)\n",
        "\tV = Vt∪Vs∪Vo   (Overall-Satisfaction-Testing Ao , Vo , Po, o means Overall)\n",
        "\tA = As∪Ao       (Satisfaction-setting As , Vs , Ps , s means Satisfactory)\n",
        "\tP = Pt∪Ps∪Po   (Truth-setting Vt , Pt ,t means True)\n",
        "\tVt = U = {u1, u2, …, un},\n",
        "\tPt = {P (u1 = T) = 1/2, P (u2 = T) = 1/2,…, P (un = T) = 1/2}\n",
        "So, we could get the formula as below:\n",
        "\tBN = (Vt∪Vs∪Vo, As∪Ao, Pt∪Ps∪Po) \n",
        "Step 3: Set probabilities for node variables and directed edges when they are true or satisfactory\n",
        "For each clause Cj ∈ C, and 1≤ j ≤m, (V■(s@j), A■(s@j) , P■(s@j)) is the clause-satisfaction-testing sub-component, it can distinguish if a variable in U satisfies clause Cj in C or not. The formulas are as below:\n",
        "\tV■(s@j) = {W■(1@j),W■(2@j), W■(3@j) ,Cj}\n",
        "\tA■(s@j) = {(W■(1@j), Cj), (W■(2@j), Cj), (W■(3@j), Cj)}\n",
        "\tP■(s@j) = {P (Cj = T/πCj)}\n",
        "\tP (Cj = T/πCj) {█(1,if g_j (π_(c_j ) )=T@0,if g_j (π_(c_j ) )=F)┤\n",
        "W■(1@j) stands for the first literal in the corresponding Cj, and W■(2@j), W■(3@j) stand for the second and third literals in the corresponding Cj, for example: V■(s@3) = {u2, u3, u4, C3}, C3 is directly connected with u2, u3, u4 which can decide is C3 could be T or F.\n",
        "\tV^s=⋃_(j=1)^m▒V_j^s  = ⋃_(j=1)^m▒〖{W■(1@j),W■(2@j),W■(3@j) ,C_j}〗\n",
        "\tA^s=⋃_(j=1)^m▒A_j^s  = ⋃_(j=1)^m▒〖{(W■(1@j),C_j),(W■(2@j),C_j),(W■(3@j),C_j)}〗\n",
        "\tP^s=⋃_(j=1)^m▒P_j^s  = ⋃_(j=1)^m▒〖{P (C_j  = T/π_(C_j ))}〗\n",
        "(V^s, A^s,P^s) is made up of the set of the clause satisfaction-testing subcomponent s corresponding to each clause C_j.\n"
      ]
    },
    {
      "cell_type": "markdown",
      "metadata": {
        "id": "g-5wgkH1OoHH",
        "colab_type": "text"
      },
      "source": [
        ""
      ]
    },
    {
      "cell_type": "markdown",
      "metadata": {
        "id": "_ZLX6ZGVNr0f",
        "colab_type": "text"
      },
      "source": [
        "## Innovation"
      ]
    },
    {
      "cell_type": "markdown",
      "metadata": {
        "id": "XmtyaOfDNr0g",
        "colab_type": "text"
      },
      "source": [
        "This paper talks about the 3SAT is a NP-Complete problem, which requires a lot of time and efforts to find the answer. So, the biggest innovation in this paper is the author uses the Bayesian network to complete the transformation of a famous 3SAT (NP-complete problem) to a NP-Hard by using Bayes Networking. The whole process is to transform the NP-Complete problem to PIBNETD (PIBNETD shorts for to Probabilistic Inference using Belief networks), then transform the PIBNETD(returns with decision) to the PIBNET (returns with probability). At the same time, there is another innovation is that by using Bayesian network saves a lot time to do plenty of data inferences.\n",
        "\n",
        "**3.1 3SAT NP-Complete Problem is Transformed to NP-Hard**\n",
        "\n",
        "\tNP: Short for non-deterministic. It can use polynomial time complexity algorithm to verify if an answer is correct or not.\n",
        "\tNP-Hard: Short for non-deterministic polynomial-hard. It’s the most effective algorithm doesn’t exist for this kind of problems, which means can’t get the accurate result but a quite correct answer by using maximum likelihood. All the NP problems can reduce to NP-Hard.\n",
        "\tNP-Complete: Short for non-deterministic polynomial-complete. It’s the hardest decision problem among the NP problems.\n",
        "α,β are using the binary way to record the data, please see the formulas as below: \n",
        "\tP (Y=T) = ∑_(α=0)^(2^(n )-1)▒∑_(β=0)^(2^m-1)▒〖P(Y=T/C_β )  P(C_β/U_α )P(U_α)〗\n",
        "\tP (Y=T/C_s) P (C_s/U_s )P(U_s)  (Satisfaction-setting C_s, U_s, s means Satisfactory)\n",
        "\tP (Y=T) ≥ P (Y=T/C_s) P (C_s/U_s )P(U_s)\n",
        "\tP (Y=T/C_s)=1 \n",
        "\tP(U_s )= (1/2)^n\n",
        "\tP(Cs/Us) >0\n",
        "\tP (Cs/Us) = P (C1 = T/ W■(1@1), W■(2@1), W■(3@1)) …P (Cm = T/ W■(1@m), W■(2@m), W■(3@m))\n",
        "Us stands a for a set of satisfiable clauses C, at the same time, in this situation, it means that every clause c_j  satisfies truth assignment in C. So, we can get the formulas as below:\n",
        "\tP (Cj = T/ W■(1@j), W■(2@j), W■(3@j)) = 1, 1≤j≤m\n",
        "\tP (Cs/Us) = 1\n",
        "\tP (Y=T) >0\n",
        "So we can see that P (Cs/Uα) = 0 for all Uα and when C_β ≠ C_s, P (Y=T/C_β) = 0, which means P (Y=T) = 0, this can prove that PIBNETD is transferred into PIBNET, and this also means that PIBNET is NP-hard.\n",
        "\n",
        "**3.2 Bayesian Networks Reduce Calculation**\n",
        "\n",
        "Although Bayesian belief networks is a very complicated algorithm, but it still reduces the big amount of calculation work which increase the efficiency.\n",
        "When use Bayesian network in the joint probability, all the variables in every example can be set as there are n probabilities. We do not need to calculate the 2n probabilities in the joint probability space when using Bayesian network in joint probability but just calculate the n variables from each example in the network. \n",
        "By using Bayes belief network, it will not need to conculcated 2n times to get all the probabilities but just need to find out some probabilities when some conditions are already set to be T or F. This algorithm saves a lot of time and still get a very accurate result.\n"
      ]
    },
    {
      "cell_type": "markdown",
      "metadata": {
        "id": "x1NMOEJbNr0h",
        "colab_type": "text"
      },
      "source": [
        "## Technical quality"
      ]
    },
    {
      "cell_type": "markdown",
      "metadata": {
        "id": "H1OXyr0wNr0h",
        "colab_type": "text"
      },
      "source": [
        "If the full score is 10, I would like to give this paper an 8. Overall, the technical development quality of this article is quite high. 3SAT is a very famous NP-complete problem, there are many people have had done researches on it. Using the Bayesian belief networks to solve the probabilistic inference problem is very efficient. \n",
        "In the paper, the author comes up with a solution to solve the 3SAT problem by using Bayesian networks, and there are many formulas and examples in this paper to support the points which helps me understand how the Bayesian networks apply on the 3SAT NP-Complete problem., \n",
        "However, the orders of the content are a bit messy, it didn’t follow up a clear structure when give the formulas and state the content, quite hard for me to put everything together easily and understand things well. Also the formulas are too many and been explained the same thing again and again. I guess the author wants to make sure the readers can understand his article well that’s why he always tries to explain the same things couple times, but this makes the article very massive and even make me feel confused and worried about missing any information he is giving, but actually there are just many things are being told over again and again which wastes time. \n",
        "What’s more, there are many things haven’t been explained such as what’s NP-Complete, NP-Hard problems and etc., so I have to do a lot of extra researches to help me understand the article, even if the author has put some references to show me that I could refer to some other resources, but it takes a bit longer time for me to combine the knowledge I learn from other articles with this one and understand the article.\n",
        "As a whole, this paper has come up a solution for a very famous NP-Complete problem through Bayesian network which is great but maybe organize the content better and give more explanations in the article will be more helpful for readers to understand the article."
      ]
    },
    {
      "cell_type": "markdown",
      "metadata": {
        "id": "RsWQAfF6Nr0i",
        "colab_type": "text"
      },
      "source": [
        "## Application and X-factor"
      ]
    },
    {
      "cell_type": "markdown",
      "metadata": {
        "id": "CUdAjwtrNr0k",
        "colab_type": "text"
      },
      "source": [
        "The author solves the 3SAT probabilistic inference problem efficiently through certain restricted kind of Bayesian networks and the author proved that the PIBNET is NP-hard. \n",
        "The Bayesian belief networks can be used among many different relationships. Moreover, it represents the probabilistic relationships explicitly. And in the Bayesian belief networks just need to make consideration about the dependencies among variables in a domain which are already known, no need to know all variables which rely on other variables. \n",
        "The Bayesian belief networks can be used to express and analyze unsure and probabilistic events, apply on the decisions which conditionally rely on multiple control variables, the inference can be got from the missing, inaccurate or unsure information.\n",
        "Bayesian Network can be applied in many domains such as gaming and law, bioinformatics, image processing, protein structure, document classification, gene regulatory networks, decision support systems, engineering, gene expression analysis, medicine, information retrieval, computational biology, data fusion, etc. \n",
        "There is no ideal condition, in the real world, the relationships are more complicated, it always requests a large and complex connected network. Since there is no any general or exact algorithm can fit all the problems, so we face different problems especially the complicated problems, we need to analyze the problem, to approach a more accurate result, we should find the most suitable algorithms for the corresponding problems. \n",
        "There is average-case algorithms we can use, but also when there are some special or complicated problems, here are many different algorithms we can consider as well such as approximation algorithms and special-case algorithms.\n",
        "Approximation algorithms produce an inexact, bounded solution, but guarantee that the exact solution is within those error bounds [4].\n",
        "Special-case algorithms are capable of efficient probabilistic inference for special types of belief networks [5].\n",
        "\n"
      ]
    },
    {
      "cell_type": "markdown",
      "metadata": {
        "id": "QNkVFTsENr0m",
        "colab_type": "text"
      },
      "source": [
        "## Presentation"
      ]
    },
    {
      "cell_type": "markdown",
      "metadata": {
        "id": "R1Y1g5KuNr0n",
        "colab_type": "text"
      },
      "source": [
        "The overall structure is good, very clear about what’s the author’s opinions and what’s the article is about, but I find that it is still a bit difficult to read, the author uses very complicated words or sentences to explain things and sometimes explain the same thing over again and again which makes the article a but messy.\n",
        "It’s very hard for me to understand this article in the beginning, there are some important words such as NP-Complete and NP-Hard are not explained, as well as some other resource are put as references which make it more complicated to go through everything and understand what’s the author tries to tell us.\n",
        "Also, because the content is a little messy, I work hard on collecting information and putting them together to understand how the Bayesian network applies on the 3SAT and how the formulas work.\n",
        "So I can present the main ideas of this paper since the information and examples are very sufficient, but some details are a bit hard to sort them out and totally understand, if the authors could have organized the content better and give some explanations directly in the paper will make the presentation much easier and better."
      ]
    },
    {
      "cell_type": "markdown",
      "metadata": {
        "id": "oap8U2O8Nr0n",
        "colab_type": "text"
      },
      "source": [
        "## References\n",
        "\n",
        "[1] Cooper, G. 1990, ‘The Computational Complexity of Probabilistic Inference Using Bayesian Belief Networks’, Artificial Intelligence, Vol. 42, Issues no. 2–3, pp. 393.\n",
        "\n",
        "[2] Charles Elkan(2012), Bayesian networks, University of California Computer Science and Engineering, United States, viewed 28 August 2019, https://cseweb.ucsd.edu/~elkan/250A/bayesnets.pdf\n",
        "\n",
        "[3] Cooper, G. 1990, ‘The Computational Complexity of Probabilistic Inference Using Bayesian Belief Networks’, Artificial Intelligence, Vol. 42, Issues no. 2–3, pp. 396.\n",
        "\n",
        "[4] Cooper, G. 1990, ‘The Computational Complexity of Probabilistic Inference Using Bayesian Belief Networks’, Artificial Intelligence, Vol. 42, Issues no. 2–3, pp. 403.\n",
        "\n",
        "[5] Cooper, G. 1990, ‘The Computational Complexity of Probabilistic Inference Using Bayesian Belief Networks’, Artificial Intelligence, Vol. 42, Issues no. 2–3, pp. 404.\n"
      ]
    },
    {
      "cell_type": "code",
      "metadata": {
        "id": "SxeGQUi_P9Nw",
        "colab_type": "code",
        "colab": {}
      },
      "source": [
        ""
      ],
      "execution_count": 0,
      "outputs": []
    }
  ]
}